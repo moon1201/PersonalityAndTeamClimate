{
 "cells": [
  {
   "cell_type": "code",
   "execution_count": 26,
   "id": "initial_id",
   "metadata": {
    "collapsed": true,
    "ExecuteTime": {
     "end_time": "2024-07-25T14:05:16.097224Z",
     "start_time": "2024-07-25T14:05:15.987443Z"
    }
   },
   "outputs": [
    {
     "data": {
      "text/plain": "     Extraversion  Agreeableness  Conscientiousness  Neuroticism  Openness  \\\n0              57             96                 29           73        80   \n1               3             75                 26           84        36   \n2              72             94                 98           10        40   \n3              70             68                 79           53        58   \n4              80             18                 18           56        13   \n..            ...            ...                ...          ...       ...   \n277            29             60                 79           50        42   \n278             8             54                 48           91        37   \n279            72             28                 65           23         9   \n280            57             65                 58           56         5   \n281            78             75                 51           39        73   \n\n       Vision  Task_Orientation  Support_for_innovation  Participative_safety  \\\n0    4.000000          5.000000                   4.750              4.833333   \n1    4.000000          4.428571                   4.000              4.583333   \n2    4.818182          5.000000                   5.000              5.000000   \n3    4.818182          4.857143                   3.875              5.000000   \n4    4.000000          4.142857                   3.750              3.833333   \n..        ...               ...                     ...                   ...   \n277  4.818182          5.000000                   5.000              4.833333   \n278  3.636364          3.428571                   4.250              3.750000   \n279  4.727273          3.285714                   3.125              3.750000   \n280  4.363636          4.285714                   4.125              4.000000   \n281  4.090909          4.000000                   4.125              4.250000   \n\n     Team_Climate  \n0           4.605  \n1           4.263  \n2           4.947  \n3           4.684  \n4           3.921  \n..            ...  \n277         4.830  \n278         3.770  \n279         3.720  \n280         4.260  \n281         4.160  \n\n[282 rows x 10 columns]",
      "text/html": "<div>\n<style scoped>\n    .dataframe tbody tr th:only-of-type {\n        vertical-align: middle;\n    }\n\n    .dataframe tbody tr th {\n        vertical-align: top;\n    }\n\n    .dataframe thead th {\n        text-align: right;\n    }\n</style>\n<table border=\"1\" class=\"dataframe\">\n  <thead>\n    <tr style=\"text-align: right;\">\n      <th></th>\n      <th>Extraversion</th>\n      <th>Agreeableness</th>\n      <th>Conscientiousness</th>\n      <th>Neuroticism</th>\n      <th>Openness</th>\n      <th>Vision</th>\n      <th>Task_Orientation</th>\n      <th>Support_for_innovation</th>\n      <th>Participative_safety</th>\n      <th>Team_Climate</th>\n    </tr>\n  </thead>\n  <tbody>\n    <tr>\n      <th>0</th>\n      <td>57</td>\n      <td>96</td>\n      <td>29</td>\n      <td>73</td>\n      <td>80</td>\n      <td>4.000000</td>\n      <td>5.000000</td>\n      <td>4.750</td>\n      <td>4.833333</td>\n      <td>4.605</td>\n    </tr>\n    <tr>\n      <th>1</th>\n      <td>3</td>\n      <td>75</td>\n      <td>26</td>\n      <td>84</td>\n      <td>36</td>\n      <td>4.000000</td>\n      <td>4.428571</td>\n      <td>4.000</td>\n      <td>4.583333</td>\n      <td>4.263</td>\n    </tr>\n    <tr>\n      <th>2</th>\n      <td>72</td>\n      <td>94</td>\n      <td>98</td>\n      <td>10</td>\n      <td>40</td>\n      <td>4.818182</td>\n      <td>5.000000</td>\n      <td>5.000</td>\n      <td>5.000000</td>\n      <td>4.947</td>\n    </tr>\n    <tr>\n      <th>3</th>\n      <td>70</td>\n      <td>68</td>\n      <td>79</td>\n      <td>53</td>\n      <td>58</td>\n      <td>4.818182</td>\n      <td>4.857143</td>\n      <td>3.875</td>\n      <td>5.000000</td>\n      <td>4.684</td>\n    </tr>\n    <tr>\n      <th>4</th>\n      <td>80</td>\n      <td>18</td>\n      <td>18</td>\n      <td>56</td>\n      <td>13</td>\n      <td>4.000000</td>\n      <td>4.142857</td>\n      <td>3.750</td>\n      <td>3.833333</td>\n      <td>3.921</td>\n    </tr>\n    <tr>\n      <th>...</th>\n      <td>...</td>\n      <td>...</td>\n      <td>...</td>\n      <td>...</td>\n      <td>...</td>\n      <td>...</td>\n      <td>...</td>\n      <td>...</td>\n      <td>...</td>\n      <td>...</td>\n    </tr>\n    <tr>\n      <th>277</th>\n      <td>29</td>\n      <td>60</td>\n      <td>79</td>\n      <td>50</td>\n      <td>42</td>\n      <td>4.818182</td>\n      <td>5.000000</td>\n      <td>5.000</td>\n      <td>4.833333</td>\n      <td>4.830</td>\n    </tr>\n    <tr>\n      <th>278</th>\n      <td>8</td>\n      <td>54</td>\n      <td>48</td>\n      <td>91</td>\n      <td>37</td>\n      <td>3.636364</td>\n      <td>3.428571</td>\n      <td>4.250</td>\n      <td>3.750000</td>\n      <td>3.770</td>\n    </tr>\n    <tr>\n      <th>279</th>\n      <td>72</td>\n      <td>28</td>\n      <td>65</td>\n      <td>23</td>\n      <td>9</td>\n      <td>4.727273</td>\n      <td>3.285714</td>\n      <td>3.125</td>\n      <td>3.750000</td>\n      <td>3.720</td>\n    </tr>\n    <tr>\n      <th>280</th>\n      <td>57</td>\n      <td>65</td>\n      <td>58</td>\n      <td>56</td>\n      <td>5</td>\n      <td>4.363636</td>\n      <td>4.285714</td>\n      <td>4.125</td>\n      <td>4.000000</td>\n      <td>4.260</td>\n    </tr>\n    <tr>\n      <th>281</th>\n      <td>78</td>\n      <td>75</td>\n      <td>51</td>\n      <td>39</td>\n      <td>73</td>\n      <td>4.090909</td>\n      <td>4.000000</td>\n      <td>4.125</td>\n      <td>4.250000</td>\n      <td>4.160</td>\n    </tr>\n  </tbody>\n</table>\n<p>282 rows × 10 columns</p>\n</div>"
     },
     "execution_count": 26,
     "metadata": {},
     "output_type": "execute_result"
    }
   ],
   "source": [
    "import pandas as pd\n",
    "import numpy as np\n",
    "import matplotlib.pyplot as plt\n",
    "\n",
    "df = pd.read_excel('data-5features-all-outputs.xlsx')\n",
    "bigfive = [\"Extraversion\", \"Agreeableness\", \"Conscientiousness\", \"Neuroticism\", \"Openness\"]\n",
    "target = \"Team_Climate\"\n",
    "df = df.iloc[:,2:]\n",
    "df"
   ]
  },
  {
   "cell_type": "markdown",
   "source": [
    "Previous research have only implemented regression analysis with neuroticism and each output feature of team climate. They have selected neuroticism because was the only personality variable that demonstrated high correlation between neuroticism and team climate variables"
   ],
   "metadata": {
    "collapsed": false
   },
   "id": "91c89a94f2980396"
  },
  {
   "cell_type": "code",
   "outputs": [
    {
     "name": "stdout",
     "output_type": "stream",
     "text": [
      "Mean Squared Error: 0.09158933655345987\n",
      "R^2 Score: 0.7925288038456164\n",
      "Test score: 0.7925288038456164\n",
      "Train score: 0.7713680491141732\n"
     ]
    }
   ],
   "source": [
    "from sklearn.metrics import mean_squared_error, r2_score\n",
    "from sklearn.model_selection import train_test_split\n",
    "from sklearn.linear_model import LinearRegression\n",
    "\n",
    "X_train, X_test, y_train, y_test = train_test_split(df[['Neuroticism', 'Support_for_innovation']], df[target], test_size=0.2)\n",
    "clf = LinearRegression()\n",
    "clf.fit(X_train, y_train)\n",
    "y_pred = clf.predict(X_test)\n",
    "test_score = clf.score(X_test, y_test)\n",
    "train_score = clf.score(X_train, y_train)\n",
    "mse = mean_squared_error(y_test, y_pred)\n",
    "r2 = r2_score(y_test, y_pred)\n",
    "\n",
    "print(f'Mean Squared Error: {mse}')\n",
    "print(f'R^2 Score: {r2}')\n",
    "print(f\"Test score: {test_score}\")\n",
    "print(f\"Train score: {train_score}\")"
   ],
   "metadata": {
    "collapsed": false,
    "ExecuteTime": {
     "end_time": "2024-07-25T16:11:05.628930Z",
     "start_time": "2024-07-25T16:11:05.617528Z"
    }
   },
   "id": "452c7b359fd8742",
   "execution_count": 40
  },
  {
   "cell_type": "code",
   "outputs": [],
   "source": [],
   "metadata": {
    "collapsed": false
   },
   "id": "84103a4f1ebb8913"
  }
 ],
 "metadata": {
  "kernelspec": {
   "display_name": "Python 3",
   "language": "python",
   "name": "python3"
  },
  "language_info": {
   "codemirror_mode": {
    "name": "ipython",
    "version": 2
   },
   "file_extension": ".py",
   "mimetype": "text/x-python",
   "name": "python",
   "nbconvert_exporter": "python",
   "pygments_lexer": "ipython2",
   "version": "2.7.6"
  }
 },
 "nbformat": 4,
 "nbformat_minor": 5
}

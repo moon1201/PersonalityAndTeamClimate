{
 "cells": [
  {
   "cell_type": "code",
   "execution_count": null,
   "id": "initial_id",
   "metadata": {
    "collapsed": true
   },
   "outputs": [],
   "source": [
    "import plotly.graph_objects as go\n",
    "import plotly.offline as pyo\n",
    "import pandas as pd\n",
    "import numpy as np\n",
    "import matplotlib.pyplot as plt\n",
    "import seaborn as sns"
   ]
  },
  {
   "cell_type": "code",
   "outputs": [],
   "source": [
    "df_original = pd.read_excel('data-5features-all-outputs.xlsx')\n",
    "df_all = pd.read_excel('All_data_correct.xlsx')\n",
    "df_all.drop(columns=[\"Responsibility\", \"Listening_skills\", \"Questioning_skills\", \"Team_participation\", \"Teamwork_oriented\"], inplace=True)\n",
    "df = df_original.iloc[:,2:]\n",
    "\n",
    "big_five_names = list(df.columns[:5])\n",
    "individual = df_all.iloc[2, :][big_five_names]\n",
    "list(individual)"
   ],
   "metadata": {
    "collapsed": false
   },
   "id": "d93135769656ce01"
  },
  {
   "cell_type": "code",
   "outputs": [],
   "source": [
    "fig = go.Figure(\n",
    "    data=[go.Scatterpolar(r=list(individual), theta=big_five_names, fill='toself', name='employee 1')],\n",
    "    layout=go.Layout(\n",
    "        title=go.layout.Title(text=\"Employee's personality traits\"),\n",
    "        polar={'radialaxis': {'visible': True}},\n",
    "        showlegend=True\n",
    "    )\n",
    ")\n",
    "pyo.plot(fig, filename='employee2')"
   ],
   "metadata": {
    "collapsed": false
   },
   "id": "3149e7218118bd09"
  }
 ],
 "metadata": {
  "kernelspec": {
   "display_name": "Python 3",
   "language": "python",
   "name": "python3"
  },
  "language_info": {
   "codemirror_mode": {
    "name": "ipython",
    "version": 2
   },
   "file_extension": ".py",
   "mimetype": "text/x-python",
   "name": "python",
   "nbconvert_exporter": "python",
   "pygments_lexer": "ipython2",
   "version": "2.7.6"
  }
 },
 "nbformat": 4,
 "nbformat_minor": 5
}
